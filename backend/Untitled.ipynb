{
 "cells": [
  {
   "cell_type": "code",
   "execution_count": 12,
   "metadata": {},
   "outputs": [
    {
     "data": {
      "text/plain": [
       "0      shop\n",
       "1    people\n",
       "2      user\n",
       "Name: name, dtype: object"
      ]
     },
     "execution_count": 12,
     "metadata": {},
     "output_type": "execute_result"
    }
   ],
   "source": [
    "datapath = \"queuedatabase.db\"\n",
    "import sqlite3\n",
    "import pandas as pd\n",
    "# Create your connection.\n",
    "cnx = sqlite3.connect(datapath)\n",
    "pd.read_sql_query(\"SELECT * FROM sqlite_master\", cnx)[\"name\"]\n",
    "# pd.read_sql_query(\"SELECT * FROM simple_app_note\",cnx)"
   ]
  },
  {
   "cell_type": "code",
   "execution_count": 17,
   "metadata": {},
   "outputs": [
    {
     "data": {
      "text/html": [
       "<div>\n",
       "<style scoped>\n",
       "    .dataframe tbody tr th:only-of-type {\n",
       "        vertical-align: middle;\n",
       "    }\n",
       "\n",
       "    .dataframe tbody tr th {\n",
       "        vertical-align: top;\n",
       "    }\n",
       "\n",
       "    .dataframe thead th {\n",
       "        text-align: right;\n",
       "    }\n",
       "</style>\n",
       "<table border=\"1\" class=\"dataframe\">\n",
       "  <thead>\n",
       "    <tr style=\"text-align: right;\">\n",
       "      <th></th>\n",
       "      <th>id</th>\n",
       "      <th>shopid</th>\n",
       "      <th>number</th>\n",
       "      <th>capacity</th>\n",
       "      <th>waitingtime</th>\n",
       "      <th>lastupdate</th>\n",
       "    </tr>\n",
       "  </thead>\n",
       "  <tbody>\n",
       "    <tr>\n",
       "      <td>0</td>\n",
       "      <td>1</td>\n",
       "      <td>11</td>\n",
       "      <td>2</td>\n",
       "      <td>0.020000</td>\n",
       "      <td>0</td>\n",
       "      <td>2020-04-18 15:07:23.923730</td>\n",
       "    </tr>\n",
       "    <tr>\n",
       "      <td>1</td>\n",
       "      <td>2</td>\n",
       "      <td>11</td>\n",
       "      <td>7</td>\n",
       "      <td>0.031818</td>\n",
       "      <td>0</td>\n",
       "      <td>2020-04-18 15:07:45.077135</td>\n",
       "    </tr>\n",
       "    <tr>\n",
       "      <td>2</td>\n",
       "      <td>3</td>\n",
       "      <td>11</td>\n",
       "      <td>5</td>\n",
       "      <td>0.022727</td>\n",
       "      <td>0</td>\n",
       "      <td>2020-04-18 15:07:53.465816</td>\n",
       "    </tr>\n",
       "    <tr>\n",
       "      <td>3</td>\n",
       "      <td>4</td>\n",
       "      <td>11</td>\n",
       "      <td>3</td>\n",
       "      <td>0.013636</td>\n",
       "      <td>0</td>\n",
       "      <td>2020-04-18 15:08:00.300277</td>\n",
       "    </tr>\n",
       "    <tr>\n",
       "      <td>4</td>\n",
       "      <td>5</td>\n",
       "      <td>11</td>\n",
       "      <td>12</td>\n",
       "      <td>0.054545</td>\n",
       "      <td>0</td>\n",
       "      <td>2020-04-18 15:15:44.518182</td>\n",
       "    </tr>\n",
       "    <tr>\n",
       "      <td>5</td>\n",
       "      <td>6</td>\n",
       "      <td>11</td>\n",
       "      <td>17</td>\n",
       "      <td>0.077273</td>\n",
       "      <td>0</td>\n",
       "      <td>2020-04-18 15:15:53.141118</td>\n",
       "    </tr>\n",
       "    <tr>\n",
       "      <td>6</td>\n",
       "      <td>7</td>\n",
       "      <td>11</td>\n",
       "      <td>24</td>\n",
       "      <td>0.109091</td>\n",
       "      <td>0</td>\n",
       "      <td>2020-04-18 15:15:58.116758</td>\n",
       "    </tr>\n",
       "  </tbody>\n",
       "</table>\n",
       "</div>"
      ],
      "text/plain": [
       "   id  shopid  number  capacity  waitingtime                  lastupdate\n",
       "0   1      11       2  0.020000            0  2020-04-18 15:07:23.923730\n",
       "1   2      11       7  0.031818            0  2020-04-18 15:07:45.077135\n",
       "2   3      11       5  0.022727            0  2020-04-18 15:07:53.465816\n",
       "3   4      11       3  0.013636            0  2020-04-18 15:08:00.300277\n",
       "4   5      11      12  0.054545            0  2020-04-18 15:15:44.518182\n",
       "5   6      11      17  0.077273            0  2020-04-18 15:15:53.141118\n",
       "6   7      11      24  0.109091            0  2020-04-18 15:15:58.116758"
      ]
     },
     "execution_count": 17,
     "metadata": {},
     "output_type": "execute_result"
    }
   ],
   "source": [
    "pd.read_sql_query(\"SELECT * FROM people\",cnx)"
   ]
  },
  {
   "cell_type": "code",
   "execution_count": null,
   "metadata": {},
   "outputs": [],
   "source": []
  }
 ],
 "metadata": {
  "kernelspec": {
   "display_name": "Python 3",
   "language": "python",
   "name": "python3"
  },
  "language_info": {
   "codemirror_mode": {
    "name": "ipython",
    "version": 3
   },
   "file_extension": ".py",
   "mimetype": "text/x-python",
   "name": "python",
   "nbconvert_exporter": "python",
   "pygments_lexer": "ipython3",
   "version": "3.7.4"
  }
 },
 "nbformat": 4,
 "nbformat_minor": 4
}
